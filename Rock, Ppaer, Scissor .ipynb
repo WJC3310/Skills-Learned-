{
 "cells": [
  {
   "cell_type": "code",
   "execution_count": 4,
   "id": "094ae969-367b-4a4f-8cdb-8645b381a383",
   "metadata": {},
   "outputs": [],
   "source": [
    "import random\n"
   ]
  },
  {
   "cell_type": "code",
   "execution_count": null,
   "id": "9ccdc9cd-22fa-4ac0-81d7-17041a10388e",
   "metadata": {},
   "outputs": [],
   "source": [
    "player1 = input ( 'select Rock, Paper, or Scissor:').lower()\n",
    "player2 = random.choice([\"Rock\", 'Paper', 'Scissor']).lower()\n",
    "print('Player 2 selected: ', player2)\n",
    "\n",
    "if player1 == \"rock\" and player2 == \"paper\":\n",
    "    print(\"Player 2 Won\")\n",
    "elif player1 == \"paper\" and player2 == 'scissor':\n",
    "    print(\"Player 2 won\")\n",
    "elif player1 == 'scissor' and player2 == 'rock':\n",
    "    print('Player 2 Won')\n",
    "elif player 1 == player 2 :\n",
    "    print('Tie')\n",
    "else:\n",
    "    print(\"Player 1 Won\")\n",
    "end"
   ]
  },
  {
   "cell_type": "code",
   "execution_count": null,
   "id": "540263a1-6c6e-4513-a034-11f3f2d83e02",
   "metadata": {},
   "outputs": [],
   "source": []
  },
  {
   "cell_type": "code",
   "execution_count": null,
   "id": "5f39990b-c315-4ef2-a451-9f09f0e63154",
   "metadata": {},
   "outputs": [],
   "source": []
  }
 ],
 "metadata": {
  "kernelspec": {
   "display_name": "Python 3 (ipykernel)",
   "language": "python",
   "name": "python3"
  },
  "language_info": {
   "codemirror_mode": {
    "name": "ipython",
    "version": 3
   },
   "file_extension": ".py",
   "mimetype": "text/x-python",
   "name": "python",
   "nbconvert_exporter": "python",
   "pygments_lexer": "ipython3",
   "version": "3.10.9"
  }
 },
 "nbformat": 4,
 "nbformat_minor": 5
}
