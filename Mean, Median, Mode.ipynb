{
 "cells": [
  {
   "cell_type": "code",
   "execution_count": 1,
   "id": "f46a6616-1abb-43e1-8903-709afcce28ca",
   "metadata": {},
   "outputs": [
    {
     "name": "stdout",
     "output_type": "stream",
     "text": [
      "16.3\n",
      "9\n"
     ]
    }
   ],
   "source": [
    "#Mean\n",
    "listc = [17, 18, 12, 11, 15, 16, 28, 29, 8, 9]\n",
    "mean = sum(listc)/ len(listc)\n",
    "print(mean)\n",
    "\n",
    "\n",
    "#Median\n",
    "listc = [17, 18, 12, 11, 15, 16, 28, 29, 8, 9]\n",
    "listc.sort()\n",
    "\n",
    "if len (listc) % 2 == 0:\n",
    "    m1 = listc[len(listc)//2]\n",
    "    m2 = listc[len(listc)//2 - 1]\n",
    "    median = (m1 + m2)/2\n",
    "else:\n",
    "    median - listc[len(listc)//2]\n",
    "    print(median)\n",
    "\n",
    "\n",
    "#Mode\n",
    "listc = [17, 18, 12, 11, 15, 16, 28, 29, 8, 9]\n",
    "frequency = {}\n",
    "for i in listc:\n",
    "    frequency.setdefault(i, 0)\n",
    "    frequency[i] +=1\n",
    "    \n",
    "frequent = max(frequency.values())\n",
    "for i, j in frequency.items():\n",
    "    if j == frequent:\n",
    "        mode = i\n",
    "print(mode)"
   ]
  },
  {
   "cell_type": "code",
   "execution_count": null,
   "id": "913fdc34-08cf-4baa-a3dd-b23248ee9106",
   "metadata": {},
   "outputs": [],
   "source": []
  }
 ],
 "metadata": {
  "kernelspec": {
   "display_name": "Python 3 (ipykernel)",
   "language": "python",
   "name": "python3"
  },
  "language_info": {
   "codemirror_mode": {
    "name": "ipython",
    "version": 3
   },
   "file_extension": ".py",
   "mimetype": "text/x-python",
   "name": "python",
   "nbconvert_exporter": "python",
   "pygments_lexer": "ipython3",
   "version": "3.10.9"
  }
 },
 "nbformat": 4,
 "nbformat_minor": 5
}
